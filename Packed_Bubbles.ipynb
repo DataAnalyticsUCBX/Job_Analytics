{
 "cells": [
  {
   "cell_type": "markdown",
   "metadata": {},
   "source": [
    "## Create a list of the top ten companies by number of job postings to use in Tableau"
   ]
  },
  {
   "cell_type": "code",
   "execution_count": 10,
   "metadata": {},
   "outputs": [
    {
     "name": "stdout",
     "output_type": "stream",
     "text": [
      "                                        Position\n",
      "Company                                         \n",
      "Amazon.com                                   452\n",
      "CyberCoders                                  428\n",
      "Ball Aerospace                               187\n",
      "Google                                       154\n",
      "Microsoft                                    149\n",
      "NYU Langone Health                            77\n",
      "KPMG                                          71\n",
      "Fred Hutchinson Cancer Research Center        70\n",
      "Apple                                         65\n",
      "Facebook                                      58\n"
     ]
    }
   ],
   "source": [
    "# Import pandas tools\n",
    "import pandas as pd\n",
    "# Get data to use\n",
    "job_data = pd.read_csv(\"final_dataframe.csv\")\n",
    "# Drop all columns except company and position\n",
    "all_orgs = job_data.loc[:,[\"Company\",\"Position\"]]\n",
    "# Drop all rows with blank data\n",
    "all_orgs_clean = all_orgs.dropna(how=\"any\")\n",
    "# Group by company\n",
    "company_grouped = all_orgs_clean.groupby([\"Company\"])\n",
    "# Create a dataframe, counting positions (i.e. rows) for each company\n",
    "company_count = pd.DataFrame(company_grouped[\"Position\"].count())\n",
    "# Sort dataframe with highest values at top (descending order)\n",
    "sorted_companies = company_count.sort_values(by=\"Position\",ascending=False)\n",
    "# Create a smaller dataframe of only the top 10 companies based on number of job listings\n",
    "top_companies = sorted_companies.head(10)\n",
    "# Export it to a csv to use in Tableau to create a packed bubble chart\n",
    "top_companies.to_csv(\"top_jobs_by_org.csv\")\n",
    "print(top_companies)"
   ]
  }
 ],
 "metadata": {
  "kernelspec": {
   "display_name": "Python 3",
   "language": "python",
   "name": "python3"
  },
  "language_info": {
   "codemirror_mode": {
    "name": "ipython",
    "version": 3
   },
   "file_extension": ".py",
   "mimetype": "text/x-python",
   "name": "python",
   "nbconvert_exporter": "python",
   "pygments_lexer": "ipython3",
   "version": "3.7.0"
  }
 },
 "nbformat": 4,
 "nbformat_minor": 2
}
