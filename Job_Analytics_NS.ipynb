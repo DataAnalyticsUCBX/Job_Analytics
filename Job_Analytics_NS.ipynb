{
 "cells": [
  {
   "cell_type": "code",
   "execution_count": null,
   "metadata": {},
   "outputs": [],
   "source": [
    "%matplotlib\n",
    "import pandas as pd\n",
    "import numpy as np\n",
    "import matplotlib.pyplot as plt\n",
    "import gmplot\n",
    "import os\n",
    "import re\n",
    "from geopy.geocoders import Nominatim\n",
    "import time\n",
    "import gmaps\n",
    "import gmaps.datasets\n",
    "from PIL import Image\n",
    "from wordcloud import WordCloud, STOPWORDS, ImageColorGenerator\n",
    "gmaps.configure(api_key=\"d15fc144437801759b374894b236ba0eeb22511e\")\n",
    "\n",
    "Aijobsindustry_dataset = pd.read_csv(\"AIJobsIndustry_Clean_v3.csv\")\n",
    "Aijobsindustry_dataset = Aijobsindustry_dataset[[\"Position\",\"Company\",\"Description\",\"Loc_state\",\"Loc_city\",\"Skills\",\"Type\",\"Source\"]]\n",
    "\n",
    "Dice_us_jobs_dataset = pd.read_csv(\"Dice_US_jobs_Clean_v2.csv\", encoding=\"cp437\")\n",
    "Dice_us_jobs_dataset = Dice_us_jobs_dataset[[\"Position\",\"Company\",\"Description\",\"Loc_state\",\"Loc_city\",\"Skills\",\"Type\",\"Source\"]]\n",
    "\n",
    "monster_dataset = pd.read_csv(\"Monster_Clean.csv\")\n",
    "monster_dataset = monster_dataset[[\"Position\",\"Company\",\"Description\",\"Loc_state\",\"Loc_city\",\"Skills\",\"Type\",\"Source\"]]\n",
    "\n",
    "# # #file need cleaning\n",
    "alldata_dataset = pd.read_csv(\"alldata_Clean_v2.csv\")\n",
    "alldata_dataset = alldata_dataset[[\"Position\",\"Company\",\"Description\",\"Loc_state\",\"Loc_city\",\"Skills\",\"Type\",\"Source\"]]\n",
    "\n",
    "# # ##file needs to match format for concat\n",
    "Dice_use_Tech_filtered = pd.read_csv(\"Dice_US_Tech_FilteredJobData_NS_Modified.csv\")\n",
    "Dice_use_Tech_filtered = Dice_use_Tech_filtered[[\"Position\",\"Company\",\"Description\",\"Loc_state\",\"Loc_city\",\"Skills\",\"Type\",\"Source\"]]\n",
    "Dice_use_Tech_filtered\n",
    "datasets_to_merge = [Aijobsindustry_dataset,Dice_us_jobs_dataset,monster_dataset,alldata_dataset,Dice_use_Tech_filtered]\n",
    "\n",
    "# ##please confirm the concat makes sense\n",
    "merged_dataset = pd.concat(datasets_to_merge, sort=False)\n",
    "merged_dataset\n",
    "\n",
    "merged_dataset[\"Loc_state\"] = merged_dataset[\"Loc_state\"].str.strip()\n",
    "merged_dataset\n",
    "# merged_dataset = pd.read_csv(\"Merged_Data.csv\")\n",
    "# merged_dataset"
   ]
  },
  {
   "cell_type": "code",
   "execution_count": null,
   "metadata": {},
   "outputs": [],
   "source": [
    "def parser(column):\n",
    "    word_count = {}\n",
    "    for entry in column:\n",
    "        entry = re.sub('[^A-Za-z0-9 ]+', '', str(entry))\n",
    "#        print(entry)\n",
    "        try:\n",
    "            entry = entry.replace(',','')\n",
    "            word_split = entry.split()\n",
    "            for word in word_split:\n",
    "                if word not in word_count:\n",
    "                    word_count[word] = 1\n",
    "                else:\n",
    "                    word_count[word] += 1\n",
    "        except AttributeError:\n",
    "            print(\"Skipping an entry due to bad data\")\n",
    "            continue\n",
    "    print(word_count)"
   ]
  },
  {
   "cell_type": "code",
   "execution_count": null,
   "metadata": {},
   "outputs": [],
   "source": [
    "desc = merged_dataset['Description']\n",
    "# desc = [if x for x in desc]\n",
    "desc = \"\".join((str(x) for x in desc))\n",
    "desc\n"
   ]
  },
  {
   "cell_type": "code",
   "execution_count": null,
   "metadata": {},
   "outputs": [],
   "source": [
    "wordcloud = WordCloud().generate(desc)\n",
    "plt.imshow(wordcloud, interpolation='bilinear')\n",
    "plt.axis(\"off\")\n",
    "plt.show()"
   ]
  },
  {
   "cell_type": "code",
   "execution_count": null,
   "metadata": {},
   "outputs": [],
   "source": [
    "skills_col = merged_dataset[\"Skills\"]\n",
    "skills_col = \"\".join((\"\".join((str(x) for x in skills_col))))\n",
    "skills_col"
   ]
  },
  {
   "cell_type": "code",
   "execution_count": null,
   "metadata": {},
   "outputs": [],
   "source": [
    "wordcloud = WordCloud().generate(skills_col)\n",
    "plt.imshow(wordcloud, interpolation='bilinear')\n",
    "plt.axis(\"off\")\n",
    "plt.show()"
   ]
  },
  {
   "cell_type": "code",
   "execution_count": null,
   "metadata": {},
   "outputs": [],
   "source": []
  },
  {
   "cell_type": "code",
   "execution_count": null,
   "metadata": {},
   "outputs": [],
   "source": [
    "group_by_state = merged_dataset.groupby(\"Loc_state\")\n",
    "count_for_state = group_by_state.count()\n",
    "count_for_state = count_for_state[\"Position\"]\n",
    "count_for_state = count_for_state.to_frame()\n",
    "count_for_state = count_for_state.reset_index()\n",
    "print(count_for_state)"
   ]
  },
  {
   "cell_type": "code",
   "execution_count": null,
   "metadata": {},
   "outputs": [],
   "source": [
    "states = {\n",
    "        'AK': 'Alaska',\n",
    "        'AL': 'Alabama',\n",
    "        'AR': 'Arkansas',\n",
    "        'AS': 'American Samoa',\n",
    "        'AZ': 'Arizona',\n",
    "        'CA': 'California',\n",
    "        'CO': 'Colorado',\n",
    "        'CT': 'Connecticut',\n",
    "        'DC': 'District of Columbia',\n",
    "        'DE': 'Delaware',\n",
    "        'FL': 'Florida',\n",
    "        'GA': 'Georgia',\n",
    "        'GU': 'Guam',\n",
    "        'HI': 'Hawaii',\n",
    "        'IA': 'Iowa',\n",
    "        'ID': 'Idaho',\n",
    "        'IL': 'Illinois',\n",
    "        'IN': 'Indiana',\n",
    "        'KS': 'Kansas',\n",
    "        'KY': 'Kentucky',\n",
    "        'LA': 'Louisiana',\n",
    "        'MA': 'Massachusetts',\n",
    "        'MD': 'Maryland',\n",
    "        'ME': 'Maine',\n",
    "        'MI': 'Michigan',\n",
    "        'MN': 'Minnesota',\n",
    "        'MO': 'Missouri',\n",
    "        'MP': 'Northern Mariana Islands',\n",
    "        'MS': 'Mississippi',\n",
    "        'MT': 'Montana',\n",
    "        'NA': 'National',\n",
    "        'NC': 'North Carolina',\n",
    "        'ND': 'North Dakota',\n",
    "        'NE': 'Nebraska',\n",
    "        'NH': 'New Hampshire',\n",
    "        'NJ': 'New Jersey',\n",
    "        'NM': 'New Mexico',\n",
    "        'NV': 'Nevada',\n",
    "        'NY': 'New York',\n",
    "        'OH': 'Ohio',\n",
    "        'OK': 'Oklahoma',\n",
    "        'OR': 'Oregon',\n",
    "        'PA': 'Pennsylvania',\n",
    "        'PR': 'Puerto Rico',\n",
    "        'RI': 'Rhode Island',\n",
    "        'SC': 'South Carolina',\n",
    "        'SD': 'South Dakota',\n",
    "        'TN': 'Tennessee',\n",
    "        'TX': 'Texas',\n",
    "        'UT': 'Utah',\n",
    "        'VA': 'Virginia',\n",
    "        'VI': 'Virgin Islands',\n",
    "        'VT': 'Vermont',\n",
    "        'WA': 'Washington',\n",
    "        'WI': 'Wisconsin',\n",
    "        'WV': 'West Virginia',\n",
    "        'WY': 'Wyoming'\n",
    "}\n"
   ]
  },
  {
   "cell_type": "code",
   "execution_count": null,
   "metadata": {},
   "outputs": [],
   "source": [
    "found = []\n",
    "notfound = []\n",
    "for item in count_for_state[\"Loc_state\"].tolist():\n",
    "    if states[item]:\n",
    "        print(f\"Found state: {item}\")\n",
    "        found.append(item)\n",
    "    else:\n",
    "        notfound.append(item)\n",
    "print(len(found))\n",
    "print(notfound)"
   ]
  },
  {
   "cell_type": "code",
   "execution_count": null,
   "metadata": {},
   "outputs": [],
   "source": [
    "# count_for_state_list = count_for_state.tolist()\n",
    "# count_for_state_list\n",
    "count_for_state[\"Loc_state\"]\n",
    "count_for_state[\"Position\"]"
   ]
  },
  {
   "cell_type": "code",
   "execution_count": null,
   "metadata": {},
   "outputs": [],
   "source": [
    "plt.figure(figsize=[20,10])\n",
    "plt.bar(count_for_state[\"Loc_state\"],count_for_state[\"Position\"], align='center', width=0.5,)\n",
    "# fig = plt.figure(figsize=(60,10))\n",
    "plt.xticks(rotation=90)\n",
    "# print(type(count_for_state))\n",
    "\n",
    "plt.title(\"Job Count by State\")\n",
    "plt.xlabel(\"States\")\n",
    "plt.ylabel(\"Count of Jobs\")\n",
    "\n",
    "plt.savefig(\"BarOfCountofJobsUS.jpg\")\n",
    "plt.show()"
   ]
  },
  {
   "cell_type": "code",
   "execution_count": null,
   "metadata": {},
   "outputs": [],
   "source": [
    "def make_autopct(values):\n",
    "    def my_autopct(pct):\n",
    "        total = sum(values)\n",
    "        val = int(round(pct*total/100.0))\n",
    "        return '{p:.2f}%  ({v:d})'.format(p=pct,v=val)\n",
    "    return my_autopct\n",
    "plt.figure(figsize=[30,15])\n",
    "plt.pie(count_for_state[\"Position\"], labels=count_for_state[\"Loc_state\"],rotatelabels=True, autopct=make_autopct(count_for_state[\"Position\"]),labeldistance=1.1)\n",
    "plt.savefig(\"PieOfCountofJobsUS.jpg\")"
   ]
  },
  {
   "cell_type": "code",
   "execution_count": null,
   "metadata": {},
   "outputs": [],
   "source": [
    "merged_dataset.head(1000)"
   ]
  },
  {
   "cell_type": "code",
   "execution_count": null,
   "metadata": {},
   "outputs": [],
   "source": [
    "california_data_set = merged_dataset.loc[merged_dataset[\"Loc_state\"] == \"CA\"]\n",
    "california_data_set\n",
    "california_data_set_grouped_by_city = california_data_set.groupby(\"Loc_city\")\n",
    "count_for_california = california_data_set_grouped_by_city.count()\n",
    "count_for_california = count_for_california[\"Position\"]\n",
    "count_for_california = count_for_california.to_frame()\n",
    "count_for_california = count_for_california.reset_index()\n",
    "count_for_california"
   ]
  },
  {
   "cell_type": "code",
   "execution_count": null,
   "metadata": {},
   "outputs": [],
   "source": [
    "plt.figure(figsize=[20,10])\n",
    "plt.bar(count_for_california[\"Loc_city\"],count_for_california[\"Position\"], align='center', width=0.5,)\n",
    "# fig = plt.figure(figsize=(60,10))\n",
    "plt.xticks(rotation=90)\n",
    "# print(type(count_for_state))\n",
    "\n",
    "plt.title(\"Job Count in California Cities\")\n",
    "plt.xlabel(\"Cities\")\n",
    "plt.ylabel(\"Count of Jobs\")\n",
    "\n",
    "plt.savefig(\"BarOfCountofJobsCA.jpg\")\n",
    "plt.show()"
   ]
  },
  {
   "cell_type": "code",
   "execution_count": null,
   "metadata": {},
   "outputs": [],
   "source": []
  },
  {
   "cell_type": "code",
   "execution_count": null,
   "metadata": {},
   "outputs": [],
   "source": [
    "city = []\n",
    "lat = []\n",
    "lng = []\n",
    "counter = 0\n",
    "skipped = []\n",
    "for cities in count_for_california[\"Loc_city\"]:\n",
    "    try:\n",
    "        geolocator = Nominatim(user_agent=\"specify_your_app_name_here\")\n",
    "        query = str(cities) + \", California, USA\"\n",
    "        location = geolocator.geocode(query,timeout=10)\n",
    "        print(location.address)\n",
    "        print((location.latitude, location.longitude))\n",
    "        print(cities)\n",
    "        lat.append(location.latitude)\n",
    "        lng.append(location.longitude)\n",
    "        city.append(cities)\n",
    "    except:\n",
    "        skipped.append(cities)\n",
    "        print(f\"Passed City: {cities}\")\n",
    "    time.sleep(2)\n",
    "    counter += 1\n",
    "#     if counter > 2:\n",
    "#         break"
   ]
  },
  {
   "cell_type": "code",
   "execution_count": null,
   "metadata": {},
   "outputs": [],
   "source": [
    "lat_lng = [x for x in zip(lat,lng)]"
   ]
  },
  {
   "cell_type": "code",
   "execution_count": null,
   "metadata": {},
   "outputs": [],
   "source": [
    "lat_lng"
   ]
  },
  {
   "cell_type": "code",
   "execution_count": null,
   "metadata": {},
   "outputs": [],
   "source": [
    "geoloc = [x for x in zip(city,lat_lng)]\n",
    "geoloc"
   ]
  },
  {
   "cell_type": "code",
   "execution_count": null,
   "metadata": {},
   "outputs": [],
   "source": [
    "intensity = count_for_california[\"Position\"].tolist()\n",
    "intensity"
   ]
  },
  {
   "cell_type": "code",
   "execution_count": null,
   "metadata": {},
   "outputs": [],
   "source": [
    "gmap = gmplot.GoogleMapPlotter(37.3285014,-123.4369153,6.14)\n",
    "# gmap.plot(lat, lng, 'cornflowerblue', edge_width=10)\n",
    "# gmap.scatter(lat, lng, '#3B0B39', size=40, marker=False)\n",
    "gmap.heatmap(lat,lng,radius=15)\n",
    "gmap.draw(\"mymap.html\")\n",
    "lat_lng"
   ]
  },
  {
   "cell_type": "code",
   "execution_count": null,
   "metadata": {},
   "outputs": [],
   "source": [
    "# gmap = gmplot.GoogleMapPlotter(37.3285014,-123.4369153,6.14)\n",
    "m = gmaps.Map()\n",
    "heatmap_layer = gmaps.Heatmap(data = lat_lng)\n",
    "m.add_layer(heatmap_layer)\n",
    "# gmap.plot(lat, lng, 'cornflowerblue', edge_width=10)\n",
    "# gmap.scatter(lat, lng, '#3B0B39', size=40, marker=False)\n",
    "# gmap.heatmap(lat,lng,radius=15)\n",
    "# gmap.draw(\"mymap.html\")\n",
    "m"
   ]
  },
  {
   "cell_type": "code",
   "execution_count": null,
   "metadata": {},
   "outputs": [],
   "source": [
    "towrite = [city,lat,lng]\n",
    "location_sheet = pd.DataFrame(data={\"City\": city,\n",
    "                                      \"Lat\": lat,\n",
    "                                      \"Lng\": lng})\n",
    "location_sheet.to_csv(\"Lat_Long_Cities.csv\")"
   ]
  },
  {
   "cell_type": "code",
   "execution_count": null,
   "metadata": {},
   "outputs": [],
   "source": []
  }
 ],
 "metadata": {
  "kernelspec": {
   "display_name": "Python 3",
   "language": "python",
   "name": "python3"
  },
  "language_info": {
   "codemirror_mode": {
    "name": "ipython",
    "version": 3
   },
   "file_extension": ".py",
   "mimetype": "text/x-python",
   "name": "python",
   "nbconvert_exporter": "python",
   "pygments_lexer": "ipython3",
   "version": "3.6.7"
  }
 },
 "nbformat": 4,
 "nbformat_minor": 2
}
