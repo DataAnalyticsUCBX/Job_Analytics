{
 "cells": [
  {
   "cell_type": "code",
   "execution_count": 7,
   "metadata": {},
   "outputs": [
    {
     "data": {
      "text/html": [
       "<div>\n",
       "<style scoped>\n",
       "    .dataframe tbody tr th:only-of-type {\n",
       "        vertical-align: middle;\n",
       "    }\n",
       "\n",
       "    .dataframe tbody tr th {\n",
       "        vertical-align: top;\n",
       "    }\n",
       "\n",
       "    .dataframe thead th {\n",
       "        text-align: right;\n",
       "    }\n",
       "</style>\n",
       "<table border=\"1\" class=\"dataframe\">\n",
       "  <thead>\n",
       "    <tr style=\"text-align: right;\">\n",
       "      <th></th>\n",
       "      <th>company</th>\n",
       "      <th>employmenttype_jobstatus</th>\n",
       "      <th>jobdescription</th>\n",
       "      <th>jobid</th>\n",
       "      <th>Loc_city</th>\n",
       "      <th>Loc_state</th>\n",
       "      <th>jobtitle</th>\n",
       "      <th>postdate</th>\n",
       "      <th>shift</th>\n",
       "      <th>skills</th>\n",
       "      <th>Link</th>\n",
       "    </tr>\n",
       "  </thead>\n",
       "  <tbody>\n",
       "    <tr>\n",
       "      <th>0</th>\n",
       "      <td>The Judge Group</td>\n",
       "      <td>NaN</td>\n",
       "      <td>Our client is currently seeking a Environmenta...</td>\n",
       "      <td>Dice Id : cxjudgpa</td>\n",
       "      <td>NaN</td>\n",
       "      <td>AK</td>\n",
       "      <td>Environmental Drill Operator</td>\n",
       "      <td>3 hours ago</td>\n",
       "      <td>Telecommuting not available</td>\n",
       "      <td>Environmental</td>\n",
       "      <td>https://www.dice.com/jobs/detail/Environmental...</td>\n",
       "    </tr>\n",
       "    <tr>\n",
       "      <th>1</th>\n",
       "      <td>Mehra Innovations</td>\n",
       "      <td>NaN</td>\n",
       "      <td>Job Description:S3 Financial- The role for thi...</td>\n",
       "      <td>Dice Id : 10155755</td>\n",
       "      <td>Anchorage</td>\n",
       "      <td>AK</td>\n",
       "      <td>S3 LAWSON SECURITY Financial</td>\n",
       "      <td>2 weeks ago</td>\n",
       "      <td>Telecommuting not available</td>\n",
       "      <td>S3 LAWSON SECURITY Financial</td>\n",
       "      <td>https://www.dice.com/jobs/detail/S3-LAWSON-SEC...</td>\n",
       "    </tr>\n",
       "    <tr>\n",
       "      <th>2</th>\n",
       "      <td>Mehra Innovations</td>\n",
       "      <td>NaN</td>\n",
       "      <td>Job Description/Skills:Act as S3 Payroll (prim...</td>\n",
       "      <td>Dice Id : 10155755</td>\n",
       "      <td>Anchorage</td>\n",
       "      <td>AK</td>\n",
       "      <td>S3 Lawson payroll Human Capital Management</td>\n",
       "      <td>2 weeks ago</td>\n",
       "      <td>Telecommuting not available</td>\n",
       "      <td>S3 Payroll,Lawson,Lawson - functional</td>\n",
       "      <td>https://www.dice.com/jobs/detail/S3-Lawson-pay...</td>\n",
       "    </tr>\n",
       "    <tr>\n",
       "      <th>3</th>\n",
       "      <td>World Technologies, Inc.</td>\n",
       "      <td>Full time</td>\n",
       "      <td>ROLE:Translate complex information and technic...</td>\n",
       "      <td>Dice Id : 10106768</td>\n",
       "      <td>Anchorage</td>\n",
       "      <td>AK</td>\n",
       "      <td>Enterprise Architect</td>\n",
       "      <td>4 days ago</td>\n",
       "      <td>Telecommuting not available</td>\n",
       "      <td>Enterprise architecture certification (TOGAF)....</td>\n",
       "      <td>https://www.dice.com/jobs/detail/Enterprise-Ar...</td>\n",
       "    </tr>\n",
       "    <tr>\n",
       "      <th>4</th>\n",
       "      <td>Global Technology Solutions Group (GTSG)</td>\n",
       "      <td>NaN</td>\n",
       "      <td>Long-term Distributed WMQ (primary role) for d...</td>\n",
       "      <td>Dice Id : 10110459</td>\n",
       "      <td>Birmingham</td>\n",
       "      <td>AL</td>\n",
       "      <td>Distributed WebSphere MQ Engineer</td>\n",
       "      <td>3 weeks ago</td>\n",
       "      <td>Telecommuting available</td>\n",
       "      <td>WebSphere MQ, AIX, z/Linux, MQ Clusters</td>\n",
       "      <td>https://www.dice.com/jobs/detail/Distributed-W...</td>\n",
       "    </tr>\n",
       "  </tbody>\n",
       "</table>\n",
       "</div>"
      ],
      "text/plain": [
       "                                    company employmenttype_jobstatus  \\\n",
       "0                           The Judge Group                      NaN   \n",
       "1                         Mehra Innovations                      NaN   \n",
       "2                         Mehra Innovations                      NaN   \n",
       "3                  World Technologies, Inc.                Full time   \n",
       "4  Global Technology Solutions Group (GTSG)                      NaN   \n",
       "\n",
       "                                      jobdescription               jobid  \\\n",
       "0  Our client is currently seeking a Environmenta...  Dice Id : cxjudgpa   \n",
       "1  Job Description:S3 Financial- The role for thi...  Dice Id : 10155755   \n",
       "2  Job Description/Skills:Act as S3 Payroll (prim...  Dice Id : 10155755   \n",
       "3  ROLE:Translate complex information and technic...  Dice Id : 10106768   \n",
       "4  Long-term Distributed WMQ (primary role) for d...  Dice Id : 10110459   \n",
       "\n",
       "     Loc_city Loc_state                                    jobtitle  \\\n",
       "0         NaN        AK                Environmental Drill Operator   \n",
       "1   Anchorage        AK                S3 LAWSON SECURITY Financial   \n",
       "2   Anchorage        AK  S3 Lawson payroll Human Capital Management   \n",
       "3   Anchorage        AK                        Enterprise Architect   \n",
       "4  Birmingham        AL           Distributed WebSphere MQ Engineer   \n",
       "\n",
       "      postdate                        shift  \\\n",
       "0  3 hours ago  Telecommuting not available   \n",
       "1  2 weeks ago  Telecommuting not available   \n",
       "2  2 weeks ago  Telecommuting not available   \n",
       "3   4 days ago  Telecommuting not available   \n",
       "4  3 weeks ago      Telecommuting available   \n",
       "\n",
       "                                              skills  \\\n",
       "0                                      Environmental   \n",
       "1                       S3 LAWSON SECURITY Financial   \n",
       "2              S3 Payroll,Lawson,Lawson - functional   \n",
       "3  Enterprise architecture certification (TOGAF)....   \n",
       "4            WebSphere MQ, AIX, z/Linux, MQ Clusters   \n",
       "\n",
       "                                                Link  \n",
       "0  https://www.dice.com/jobs/detail/Environmental...  \n",
       "1  https://www.dice.com/jobs/detail/S3-LAWSON-SEC...  \n",
       "2  https://www.dice.com/jobs/detail/S3-Lawson-pay...  \n",
       "3  https://www.dice.com/jobs/detail/Enterprise-Ar...  \n",
       "4  https://www.dice.com/jobs/detail/Distributed-W...  "
      ]
     },
     "execution_count": 7,
     "metadata": {},
     "output_type": "execute_result"
    }
   ],
   "source": [
    "import pandas as pd\n",
    "job_data_to_load = \"dice_com-job_us_sample.csv\"\n",
    "job_data = pd.read_csv(job_data_to_load)\n",
    "job_data.head()\n"
   ]
  },
  {
   "cell_type": "code",
   "execution_count": 8,
   "metadata": {},
   "outputs": [
    {
     "data": {
      "text/plain": [
       "company                     21843\n",
       "employmenttype_jobstatus    12727\n",
       "jobdescription              21893\n",
       "jobid                       21893\n",
       "Loc_city                    21858\n",
       "Loc_state                   21885\n",
       "jobtitle                    21893\n",
       "postdate                    21893\n",
       "shift                       21537\n",
       "skills                      21737\n",
       "Link                        21893\n",
       "dtype: int64"
      ]
     },
     "execution_count": 8,
     "metadata": {},
     "output_type": "execute_result"
    }
   ],
   "source": [
    "job_data.count()"
   ]
  },
  {
   "cell_type": "code",
   "execution_count": 12,
   "metadata": {},
   "outputs": [
    {
     "data": {
      "text/plain": [
       "company                     1569\n",
       "employmenttype_jobstatus     934\n",
       "jobdescription              1570\n",
       "jobid                       1570\n",
       "Loc_city                    1565\n",
       "Loc_state                   1570\n",
       "jobtitle                    1570\n",
       "postdate                    1570\n",
       "shift                       1551\n",
       "skills                      1559\n",
       "Link                        1570\n",
       "dtype: int64"
      ]
     },
     "execution_count": 12,
     "metadata": {},
     "output_type": "execute_result"
    }
   ],
   "source": [
    "Keywords = [\"Data Scien\", \"Data Analy\", \"Data Eng\", \"Business Intelligence\", \"Tableau\", \"VBA\", \"Python\", \"JSON\", \"NumPy\",  \"Pandas\", \"Matplotlib\", \"Beautiful Soap\", \"Statistics Modeling\", \"API\", \"SQL\", \"MongoDB\", \"ETL\", \"HTML\", \"CSS\", \"JavaScript\", \"AJAX\", \"D3\", \"Leaflet\", \"Hadoop\", \"Machine Learning\", \"Product Analyst\", \"BI Analyst\"]\n",
    "\n",
    "filteredframe = job_data[job_data[\"jobtitle\"].str.contains(\"|\".join(Keywords))]\n",
    "filteredframe.to_csv(\"Dice_US_Tech_FilteredJobData.csv\")\n",
    "filteredframe.count()"
   ]
  },
  {
   "cell_type": "code",
   "execution_count": null,
   "metadata": {},
   "outputs": [],
   "source": []
  }
 ],
 "metadata": {
  "kernelspec": {
   "display_name": "Python 3",
   "language": "python",
   "name": "python3"
  },
  "language_info": {
   "codemirror_mode": {
    "name": "ipython",
    "version": 3
   },
   "file_extension": ".py",
   "mimetype": "text/x-python",
   "name": "python",
   "nbconvert_exporter": "python",
   "pygments_lexer": "ipython3",
   "version": "3.7.0"
  }
 },
 "nbformat": 4,
 "nbformat_minor": 2
}
