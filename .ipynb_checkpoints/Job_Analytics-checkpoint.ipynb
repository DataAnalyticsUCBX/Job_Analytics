{
 "cells": [
  {
   "cell_type": "code",
   "execution_count": 1,
   "metadata": {},
   "outputs": [],
   "source": [
    "import pandas as pd\n",
    "import numpy as np\n",
    "import matplotlib.pyplot as plt\n",
    "import os"
   ]
  },
  {
   "cell_type": "code",
   "execution_count": 3,
   "metadata": {},
   "outputs": [
    {
     "data": {
      "text/html": [
       "<div>\n",
       "<style scoped>\n",
       "    .dataframe tbody tr th:only-of-type {\n",
       "        vertical-align: middle;\n",
       "    }\n",
       "\n",
       "    .dataframe tbody tr th {\n",
       "        vertical-align: top;\n",
       "    }\n",
       "\n",
       "    .dataframe thead th {\n",
       "        text-align: right;\n",
       "    }\n",
       "</style>\n",
       "<table border=\"1\" class=\"dataframe\">\n",
       "  <thead>\n",
       "    <tr style=\"text-align: right;\">\n",
       "      <th></th>\n",
       "      <th>position</th>\n",
       "      <th>company</th>\n",
       "      <th>description</th>\n",
       "      <th>reviews</th>\n",
       "      <th>location</th>\n",
       "    </tr>\n",
       "  </thead>\n",
       "  <tbody>\n",
       "    <tr>\n",
       "      <th>0</th>\n",
       "      <td>Development Director</td>\n",
       "      <td>ALS TDI</td>\n",
       "      <td>Development Director\\nALS Therapy Development ...</td>\n",
       "      <td>NaN</td>\n",
       "      <td>Atlanta, GA 30301</td>\n",
       "    </tr>\n",
       "    <tr>\n",
       "      <th>1</th>\n",
       "      <td>An Ostentatiously-Excitable Principal Research...</td>\n",
       "      <td>The Hexagon Lavish</td>\n",
       "      <td>Job Description\\n\\n\"The road that leads to acc...</td>\n",
       "      <td>NaN</td>\n",
       "      <td>Atlanta, GA</td>\n",
       "    </tr>\n",
       "    <tr>\n",
       "      <th>2</th>\n",
       "      <td>Data Scientist</td>\n",
       "      <td>Xpert Staffing</td>\n",
       "      <td>Growing company located in the Atlanta, GA are...</td>\n",
       "      <td>NaN</td>\n",
       "      <td>Atlanta, GA</td>\n",
       "    </tr>\n",
       "    <tr>\n",
       "      <th>3</th>\n",
       "      <td>Data Analyst</td>\n",
       "      <td>Operation HOPE</td>\n",
       "      <td>DEPARTMENT: Program OperationsPOSITION LOCATIO...</td>\n",
       "      <td>44.0</td>\n",
       "      <td>Atlanta, GA 30303</td>\n",
       "    </tr>\n",
       "    <tr>\n",
       "      <th>4</th>\n",
       "      <td>Assistant Professor -TT - Signal Processing &amp; ...</td>\n",
       "      <td>Emory University</td>\n",
       "      <td>DESCRIPTION\\nThe Emory University Department o...</td>\n",
       "      <td>550.0</td>\n",
       "      <td>Atlanta, GA</td>\n",
       "    </tr>\n",
       "  </tbody>\n",
       "</table>\n",
       "</div>"
      ],
      "text/plain": [
       "                                            position             company  \\\n",
       "0                               Development Director             ALS TDI   \n",
       "1  An Ostentatiously-Excitable Principal Research...  The Hexagon Lavish   \n",
       "2                                     Data Scientist      Xpert Staffing   \n",
       "3                                       Data Analyst      Operation HOPE   \n",
       "4  Assistant Professor -TT - Signal Processing & ...    Emory University   \n",
       "\n",
       "                                         description  reviews  \\\n",
       "0  Development Director\\nALS Therapy Development ...      NaN   \n",
       "1  Job Description\\n\\n\"The road that leads to acc...      NaN   \n",
       "2  Growing company located in the Atlanta, GA are...      NaN   \n",
       "3  DEPARTMENT: Program OperationsPOSITION LOCATIO...     44.0   \n",
       "4  DESCRIPTION\\nThe Emory University Department o...    550.0   \n",
       "\n",
       "             location  \n",
       "0  Atlanta, GA 30301   \n",
       "1         Atlanta, GA  \n",
       "2         Atlanta, GA  \n",
       "3  Atlanta, GA 30303   \n",
       "4         Atlanta, GA  "
      ]
     },
     "execution_count": 3,
     "metadata": {},
     "output_type": "execute_result"
    }
   ],
   "source": [
    "csv_in_path1 = os.path.join(\"alldata.csv\")\n",
    "#csv_in_path2 = os.path.join(\"AIJobsIndustry_Clean.csv\")\n",
    "#csv_in_path3 = os.path.join(\"Dice_US_jobs_Clean.csv\")\n",
    "data1 = pd.read_csv(csv_in_path1)\n",
    "#data2 = pd.read_csv(csv_in_path2)\n",
    "#data3 = pd.read_csv(csv_in_path3)\n",
    "data1.head()"
   ]
  },
  {
   "cell_type": "code",
   "execution_count": 7,
   "metadata": {},
   "outputs": [
    {
     "name": "stdout",
     "output_type": "stream",
     "text": [
      "[\"DESCRIPTION\\nThe Emory University Department of Biomedical Informatics is recruiting for tenure track faculty positions in the area of biomedical informatics and data science with the possibility of joint appointments in other departments including the Department of Radiology &amp; Imaging Sciences and the Georgia Institute of Technology/Emory Wallace H. Coulter Department of Biomedical Engineering. The Department of Biomedical Informatics is a highly dynamic and multidisciplinary environment that has strengths in clinical informatics, imaging informatics, bioinformatics, machine learning, signal processing and mHealth. The clinical informatics group fosters collaborative projects between software systems researchers and scientific research groups, and between clinical informatics researchers, clinicians and healthcare. The Emory Department of Biomedical Informatics is closely aligned with the Emory University Department of Math and Computer Science, with Emory Healthcare Information Services, Emory University Research Informatics and Georgia Institute of Technology/Emory Wallace H. Coulter Department of Biomedical Engineering. Many members of our faculty hold joint appointments.\\n\\nThe successful candidate will provide leadership in planning and implementing future information systems that support clinical research as well as develop a multi-disciplinary research program in areas related to the strengths and interests of the School of Medicine. They will enable comparative analyses and integration of enormous data sets across multiple studies and sources. The candidate will also interface with technology infrastructure efforts supporting biomedical research in the Atlanta Clinical and Translational Science Institute's Biomedical Informatics Program (http://www.atlantactsi.org/areas/bip/) and other BD2K related initiatives. These technologies are expected to create an outstanding foundation for biomedical informatics research both locally and nationally. The candidate will publish in peer-reviewed conferences and journals, participate in and lead clinical informatics-related proposals, and engage in relevant service and committees.\\n\\nADDITIONAL DETAILS\\nCandidates to submit cover letter detailing your plans for future research, your CV, a list of no more than 10 of your most relevant publications and contact details for between three and five references.\\nApplicants must have an MD or PhD in Computer Science, Biomedical Informatics or a related field and three years of research and development experience in clinical and/or translational research informatics. There must be a proven publication record in leading peer-reviewed journals/conferences and demonstrated potential to obtain extramural funding. The successful candidate should have experience in several of the following: bioinformatics software development, data warehousing and data mining, massive scale database searches, cloud computing, machine learning, signal &amp; image processing, statistical inference, and natural language processing. Research and/or development experience in imaging informatics, mHealth informatics, ontology management and knowledge integration; design of tools intended to support the discovery, analysis and integration of high-throughput biomedical data sets; and tools and techniques for extraction and codification of information contained in biological and clinical unstructured text is desirable. Familiarity with HIPAA regulation and privacy projection requirements is necessary. A demonstrated ability to teach data science, biomedical informatics and computer science courses is important.-65750BR\"]\n",
      "{'DESCRIPTION': 1, 'The': 8, 'Emory': 5, 'University': 3, 'Department': 7, 'of': 22, 'Biomedical': 7, 'Informatics': 6, 'is': 6, 'recruiting': 1, 'for': 5, 'tenure': 1, 'track': 1, 'faculty': 2, 'positions': 1, 'in': 15, 'the': 10, 'area': 1, 'biomedical': 5, 'informatics': 9, 'and': 35, 'data': 6, 'science': 3, 'with': 5, 'possibility': 1, 'joint': 2, 'appointments': 1, 'other': 2, 'departments': 1, 'including': 1, 'Radiology': 1, '&amp;': 2, 'Imaging': 1, 'Sciences': 1, 'Georgia': 2, 'Institute': 2, 'Technology/Emory': 2, 'Wallace': 2, 'H.': 2, 'Coulter': 2, 'Engineering.': 2, 'a': 5, 'highly': 1, 'dynamic': 1, 'multidisciplinary': 1, 'environment': 1, 'that': 2, 'has': 1, 'strengths': 2, 'clinical': 7, 'imaging': 2, 'bioinformatics': 2, 'machine': 2, 'learning': 2, 'signal': 2, 'processing': 2, 'mHealth.': 1, 'group': 1, 'fosters': 1, 'collaborative': 1, 'projects': 1, 'between': 3, 'software': 2, 'systems': 2, 'researchers': 2, 'scientific': 1, 'research': 8, 'groups': 1, 'clinicians': 1, 'healthcare.': 1, 'closely': 1, 'aligned': 1, 'Math': 1, 'Computer': 2, 'Science': 3, 'Healthcare': 1, 'Information': 1, 'Services': 1, 'Research': 2, 'Many': 1, 'members': 1, 'our': 1, 'hold': 1, 'appointments.': 1, 'successful': 2, 'candidate': 4, 'will': 4, 'provide': 1, 'leadership': 1, 'planning': 1, 'implementing': 1, 'future': 2, 'information': 2, 'support': 2, 'as': 2, 'well': 1, 'develop': 1, 'multi-disciplinary': 1, 'program': 1, 'areas': 1, 'related': 3, 'to': 6, 'interests': 1, 'School': 1, 'Medicine.': 1, 'They': 1, 'enable': 1, 'comparative': 1, 'analyses': 1, 'integration': 2, 'enormous': 1, 'sets': 1, 'across': 1, 'multiple': 1, 'studies': 1, 'sources.': 1, 'also': 1, 'interface': 1, 'technology': 1, 'infrastructure': 1, 'efforts': 1, 'supporting': 1, 'Atlanta': 1, 'Clinical': 1, 'Translational': 1, \"Institute's\": 1, 'Program': 1, '(http://www.atlantactsi.org/areas/bip/)': 1, 'BD2K': 1, 'initiatives.': 1, 'These': 1, 'technologies': 1, 'are': 1, 'expected': 1, 'create': 1, 'an': 2, 'outstanding': 1, 'foundation': 1, 'both': 1, 'locally': 1, 'nationally.': 1, 'publish': 1, 'peer-reviewed': 2, 'conferences': 1, 'journals': 1, 'participate': 1, 'lead': 1, 'informatics-related': 1, 'proposals': 1, 'engage': 1, 'relevant': 2, 'service': 1, 'committees.': 1, 'ADDITIONAL': 1, 'DETAILS': 1, 'Candidates': 1, 'submit': 1, 'cover': 1, 'letter': 1, 'detailing': 1, 'your': 3, 'plans': 1, 'CV': 1, 'list': 1, 'no': 1, 'more': 1, 'than': 1, '10': 1, 'most': 1, 'publications': 1, 'contact': 1, 'details': 1, 'three': 2, 'five': 1, 'references.': 1, 'Applicants': 1, 'must': 2, 'have': 2, 'MD': 1, 'or': 2, 'PhD': 1, 'field': 1, 'years': 1, 'development': 3, 'experience': 3, 'and/or': 2, 'translational': 1, 'informatics.': 1, 'There': 1, 'be': 1, 'proven': 1, 'publication': 1, 'record': 1, 'leading': 1, 'journals/conferences': 1, 'demonstrated': 2, 'potential': 1, 'obtain': 1, 'extramural': 1, 'funding.': 1, 'should': 1, 'several': 1, 'following:': 1, 'warehousing': 1, 'mining': 1, 'massive': 1, 'scale': 1, 'database': 1, 'searches': 1, 'cloud': 1, 'computing': 1, 'image': 1, 'statistical': 1, 'inference': 1, 'natural': 1, 'language': 1, 'processing.': 1, 'mHealth': 1, 'ontology': 1, 'management': 1, 'knowledge': 1, 'integration;': 1, 'design': 1, 'tools': 2, 'intended': 1, 'discovery': 1, 'analysis': 1, 'high-throughput': 1, 'sets;': 1, 'techniques': 1, 'extraction': 1, 'codification': 1, 'contained': 1, 'biological': 1, 'unstructured': 1, 'text': 1, 'desirable.': 1, 'Familiarity': 1, 'HIPAA': 1, 'regulation': 1, 'privacy': 1, 'projection': 1, 'requirements': 1, 'necessary.': 1, 'A': 1, 'ability': 1, 'teach': 1, 'computer': 1, 'courses': 1, 'important.-65750BR': 1}\n"
     ]
    }
   ],
   "source": [
    "word_count = {}\n",
    "data12 =[data1.iloc[4,2]]\n",
    "print(data12)\n",
    "for item in data12:\n",
    "    item = item.replace(',','')\n",
    "    data_split = item.split()\n",
    "    for word in data_split:\n",
    "        if word not in word_count:\n",
    "            word_count[word] = 1\n",
    "        else:\n",
    "            word_count[word] += 1\n",
    "print(word_count)"
   ]
  }
 ],
 "metadata": {
  "kernelspec": {
   "display_name": "Python 3",
   "language": "python",
   "name": "python3"
  },
  "language_info": {
   "codemirror_mode": {
    "name": "ipython",
    "version": 3
   },
   "file_extension": ".py",
   "mimetype": "text/x-python",
   "name": "python",
   "nbconvert_exporter": "python",
   "pygments_lexer": "ipython3",
   "version": "3.7.0"
  }
 },
 "nbformat": 4,
 "nbformat_minor": 2
}
