{
 "cells": [
  {
   "cell_type": "code",
   "execution_count": 8,
   "metadata": {},
   "outputs": [],
   "source": [
    "import pandas as pd\n",
    "import numpy as np\n",
    "import matplotlib.pyplot as plt\n",
    "import os"
   ]
  },
  {
   "cell_type": "code",
   "execution_count": 9,
   "metadata": {},
   "outputs": [
    {
     "data": {
      "text/html": [
       "<div>\n",
       "<style scoped>\n",
       "    .dataframe tbody tr th:only-of-type {\n",
       "        vertical-align: middle;\n",
       "    }\n",
       "\n",
       "    .dataframe tbody tr th {\n",
       "        vertical-align: top;\n",
       "    }\n",
       "\n",
       "    .dataframe thead th {\n",
       "        text-align: right;\n",
       "    }\n",
       "</style>\n",
       "<table border=\"1\" class=\"dataframe\">\n",
       "  <thead>\n",
       "    <tr style=\"text-align: right;\">\n",
       "      <th></th>\n",
       "      <th>position</th>\n",
       "      <th>company</th>\n",
       "      <th>description</th>\n",
       "      <th>reviews</th>\n",
       "      <th>location</th>\n",
       "    </tr>\n",
       "  </thead>\n",
       "  <tbody>\n",
       "    <tr>\n",
       "      <th>0</th>\n",
       "      <td>Development Director</td>\n",
       "      <td>ALS TDI</td>\n",
       "      <td>Development Director\\nALS Therapy Development ...</td>\n",
       "      <td>NaN</td>\n",
       "      <td>Atlanta, GA 30301</td>\n",
       "    </tr>\n",
       "    <tr>\n",
       "      <th>1</th>\n",
       "      <td>An Ostentatiously-Excitable Principal Research...</td>\n",
       "      <td>The Hexagon Lavish</td>\n",
       "      <td>Job Description\\n\\n\"The road that leads to acc...</td>\n",
       "      <td>NaN</td>\n",
       "      <td>Atlanta, GA</td>\n",
       "    </tr>\n",
       "    <tr>\n",
       "      <th>2</th>\n",
       "      <td>Data Scientist</td>\n",
       "      <td>Xpert Staffing</td>\n",
       "      <td>Growing company located in the Atlanta, GA are...</td>\n",
       "      <td>NaN</td>\n",
       "      <td>Atlanta, GA</td>\n",
       "    </tr>\n",
       "    <tr>\n",
       "      <th>3</th>\n",
       "      <td>Data Analyst</td>\n",
       "      <td>Operation HOPE</td>\n",
       "      <td>DEPARTMENT: Program OperationsPOSITION LOCATIO...</td>\n",
       "      <td>44.0</td>\n",
       "      <td>Atlanta, GA 30303</td>\n",
       "    </tr>\n",
       "    <tr>\n",
       "      <th>4</th>\n",
       "      <td>Assistant Professor -TT - Signal Processing &amp; ...</td>\n",
       "      <td>Emory University</td>\n",
       "      <td>DESCRIPTION\\nThe Emory University Department o...</td>\n",
       "      <td>550.0</td>\n",
       "      <td>Atlanta, GA</td>\n",
       "    </tr>\n",
       "  </tbody>\n",
       "</table>\n",
       "</div>"
      ],
      "text/plain": [
       "                                            position             company  \\\n",
       "0                               Development Director             ALS TDI   \n",
       "1  An Ostentatiously-Excitable Principal Research...  The Hexagon Lavish   \n",
       "2                                     Data Scientist      Xpert Staffing   \n",
       "3                                       Data Analyst      Operation HOPE   \n",
       "4  Assistant Professor -TT - Signal Processing & ...    Emory University   \n",
       "\n",
       "                                         description  reviews  \\\n",
       "0  Development Director\\nALS Therapy Development ...      NaN   \n",
       "1  Job Description\\n\\n\"The road that leads to acc...      NaN   \n",
       "2  Growing company located in the Atlanta, GA are...      NaN   \n",
       "3  DEPARTMENT: Program OperationsPOSITION LOCATIO...     44.0   \n",
       "4  DESCRIPTION\\nThe Emory University Department o...    550.0   \n",
       "\n",
       "             location  \n",
       "0  Atlanta, GA 30301   \n",
       "1         Atlanta, GA  \n",
       "2         Atlanta, GA  \n",
       "3  Atlanta, GA 30303   \n",
       "4         Atlanta, GA  "
      ]
     },
     "execution_count": 9,
     "metadata": {},
     "output_type": "execute_result"
    }
   ],
   "source": [
    "csv_in_path1 = os.path.join(\"alldata.csv\")\n",
    "#csv_in_path2 = os.path.join(\"AIJobsIndustry_Clean.csv\")\n",
    "#csv_in_path3 = os.path.join(\"Dice_US_jobs_Clean.csv\")\n",
    "data1 = pd.read_csv(csv_in_path1)\n",
    "#data2 = pd.read_csv(csv_in_path2)\n",
    "#data3 = pd.read_csv(csv_in_path3)\n",
    "data1.head()"
   ]
  },
  {
   "cell_type": "code",
   "execution_count": 16,
   "metadata": {},
   "outputs": [
    {
     "name": "stdout",
     "output_type": "stream",
     "text": [
      "object\n",
      "0    Development Director\\nALS Therapy Development ...\n",
      "1    Job Description\\n\\n\"The road that leads to acc...\n",
      "2    Growing company located in the Atlanta, GA are...\n",
      "3    DEPARTMENT: Program OperationsPOSITION LOCATIO...\n",
      "4    DESCRIPTION\\nThe Emory University Department o...\n",
      "Name: description, dtype: object\n",
      "6964\n"
     ]
    }
   ],
   "source": [
    "desc = data1['description']\n",
    "print(desc.dtypes)\n",
    "print(desc.head())"
   ]
  },
  {
   "cell_type": "code",
   "execution_count": 32,
   "metadata": {},
   "outputs": [
    {
     "name": "stdout",
     "output_type": "stream",
     "text": [
      "0    Development Director\\nALS Therapy Development ...\n",
      "1    Job Description\\n\\n\"The road that leads to acc...\n",
      "2    Growing company located in the Atlanta, GA are...\n",
      "3    DEPARTMENT: Program OperationsPOSITION LOCATIO...\n",
      "4    DESCRIPTION\\nThe Emory University Department o...\n",
      "Name: description, dtype: object\n"
     ]
    }
   ],
   "source": [
    "def parser(column):\n",
    "    word_count = {}\n",
    "    for entry in column:    \n",
    "        entry = entry.replace(',','')\n",
    "        word_split = entry.split()\n",
    "        for word in word_split:\n",
    "            if word not in word_count:\n",
    "                word_count[word] = 1\n",
    "            else:\n",
    "                word_count[word] += 1\n",
    "    print(word_count)\n",
    "desc = data1['description']\n",
    "print(desc.head())\n",
    "#parser(str(desc))"
   ]
  }
 ],
 "metadata": {
  "kernelspec": {
   "display_name": "Python 3",
   "language": "python",
   "name": "python3"
  },
  "language_info": {
   "codemirror_mode": {
    "name": "ipython",
    "version": 3
   },
   "file_extension": ".py",
   "mimetype": "text/x-python",
   "name": "python",
   "nbconvert_exporter": "python",
   "pygments_lexer": "ipython3",
   "version": "3.7.0"
  }
 },
 "nbformat": 4,
 "nbformat_minor": 2
}
