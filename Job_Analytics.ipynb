{
 "cells": [
  {
   "cell_type": "code",
   "execution_count": null,
   "metadata": {},
   "outputs": [],
   "source": [
    "import pandas as pd\n",
    "import numpy as np\n",
    "import matplotlib.pyplot as plt\n",
    "import os\n",
    "import re\n",
    "\n",
    "# Aijobsindustry_dataset = pd.read_csv(\"AIJobsIndustry_Clean.csv\")\n",
    "# Aijobsindustry_dataset\n",
    "\n",
    "# Dice_us_jobs_dataset = pd.read_csv(\"Dice_US_jobs_Clean.csv\", encoding=\"cp437\")\n",
    "# Dice_us_jobs_dataset\n",
    "\n",
    "monster_dataset = pd.read_csv(\"Monster_Clean.csv\")\n",
    "monster_dataset\n",
    "\n",
    "# alldata_dataset = pd.read_csv(\"alldata.csv\")\n",
    "# alldata_dataset\n",
    "\n",
    "\n",
    "# datasets_to_merge = []\n",
    "\n",
    "\n",
    "# merged_dataset = pd.concat(Dice_US_jobs_Clean.csv,how=\"outer\")\\\n",
    "\n",
    "csv_in_path1 = os.path.join(\"alldata.csv\")\n",
    "#csv_in_path2 = os.path.join(\"AIJobsIndustry_Clean.csv\")\n",
    "#csv_in_path3 = os.path.join(\"Dice_US_jobs_Clean.csv\")\n",
    "data1 = pd.read_csv(csv_in_path1)\n",
    "#data2 = pd.read_csv(csv_in_path2)\n",
    "#data3 = pd.read_csv(csv_in_path3)\n",
    "data1.head()\n"
   ]
  },
  {
   "cell_type": "code",
   "execution_count": null,
   "metadata": {},
   "outputs": [],
   "source": [
    "def parser(column):\n",
    "    word_count = {}\n",
    "    for entry in column:\n",
    "        entry = re.sub('[^A-Za-z0-9 ]+', '', str(entry))\n",
    "#        print(entry)\n",
    "        try:\n",
    "            entry = entry.replace(',','')\n",
    "            word_split = entry.split()\n",
    "            for word in word_split:\n",
    "                if word not in word_count:\n",
    "                    word_count[word] = 1\n",
    "                else:\n",
    "                    word_count[word] += 1\n",
    "        except AttributeError:\n",
    "            print(\"Skipping an entry due to bad data\")\n",
    "            continue\n",
    "    print(word_count)"
   ]
  },
  {
   "cell_type": "code",
   "execution_count": null,
   "metadata": {},
   "outputs": [],
   "source": [
    "desc = data1['description']\n",
    "parser(desc)"
   ]
  },
  {
   "cell_type": "code",
   "execution_count": null,
   "metadata": {},
   "outputs": [],
   "source": [
    "group_by_state = monster_dataset.groupby(\"Loc_state\")\n",
    "count_for_state = group_by_state.count()\n",
    "count_for_state = count_for_state[\"Position\"]\n",
    "count_for_state"
   ]
  },
  {
   "cell_type": "code",
   "execution_count": null,
   "metadata": {},
   "outputs": [],
   "source": []
  }
 ],
 "metadata": {
  "kernelspec": {
   "display_name": "Python 3",
   "language": "python",
   "name": "python3"
  },
  "language_info": {
   "codemirror_mode": {
    "name": "ipython",
    "version": 3
   },
   "file_extension": ".py",
   "mimetype": "text/x-python",
   "name": "python",
   "nbconvert_exporter": "python",
   "pygments_lexer": "ipython3",
   "version": "3.7.0"
  }
 },
 "nbformat": 4,
 "nbformat_minor": 2
}
